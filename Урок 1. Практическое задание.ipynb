{
 "cells": [
  {
   "cell_type": "code",
   "execution_count": 2,
   "metadata": {},
   "outputs": [],
   "source": [
    "import torch"
   ]
  },
  {
   "cell_type": "code",
   "execution_count": 3,
   "metadata": {},
   "outputs": [
    {
     "data": {
      "text/plain": [
       "tensor([[[0.5276, 0.5003, 0.7618, 0.8391, 0.9005],\n",
       "         [0.7970, 0.0787, 0.6695, 0.5604, 0.5721],\n",
       "         [0.1060, 0.3242, 0.9994, 0.3757, 0.5902],\n",
       "         [0.8106, 0.4112, 0.5477, 0.4190, 0.9549]],\n",
       "\n",
       "        [[0.6032, 0.0889, 0.3479, 0.4410, 0.2172],\n",
       "         [0.5232, 0.7103, 0.8925, 0.6157, 0.8852],\n",
       "         [0.0473, 0.6883, 0.4830, 0.7135, 0.7798],\n",
       "         [0.3618, 0.0878, 0.1313, 0.9187, 0.9897]],\n",
       "\n",
       "        [[0.4736, 0.3353, 0.4518, 0.8424, 0.7494],\n",
       "         [0.7773, 0.3118, 0.7458, 0.8072, 0.2988],\n",
       "         [0.5852, 0.0754, 0.0085, 0.9382, 0.9985],\n",
       "         [0.7680, 0.1211, 0.1997, 0.3171, 0.4753]]])"
      ]
     },
     "execution_count": 3,
     "metadata": {},
     "output_type": "execute_result"
    }
   ],
   "source": [
    "# Создайте случайный FloatTensor размера 3x4x5\n",
    "sample = torch.rand(3, 4, 5).type(torch.float)\n",
    "sample"
   ]
  },
  {
   "cell_type": "code",
   "execution_count": 4,
   "metadata": {},
   "outputs": [
    {
     "data": {
      "text/plain": [
       "(torch.Size([3, 4, 5]), torch.Size([3, 4, 5]))"
      ]
     },
     "execution_count": 4,
     "metadata": {},
     "output_type": "execute_result"
    }
   ],
   "source": [
    "# Выведите его форму (shape)\n",
    "sample.shape, sample.size()"
   ]
  },
  {
   "cell_type": "code",
   "execution_count": 5,
   "metadata": {},
   "outputs": [
    {
     "data": {
      "text/plain": [
       "(tensor([[0.5276, 0.5003, 0.7618, 0.8391, 0.9005, 0.7970, 0.0787, 0.6695, 0.5604,\n",
       "          0.5721],\n",
       "         [0.1060, 0.3242, 0.9994, 0.3757, 0.5902, 0.8106, 0.4112, 0.5477, 0.4190,\n",
       "          0.9549],\n",
       "         [0.6032, 0.0889, 0.3479, 0.4410, 0.2172, 0.5232, 0.7103, 0.8925, 0.6157,\n",
       "          0.8852],\n",
       "         [0.0473, 0.6883, 0.4830, 0.7135, 0.7798, 0.3618, 0.0878, 0.1313, 0.9187,\n",
       "          0.9897],\n",
       "         [0.4736, 0.3353, 0.4518, 0.8424, 0.7494, 0.7773, 0.3118, 0.7458, 0.8072,\n",
       "          0.2988],\n",
       "         [0.5852, 0.0754, 0.0085, 0.9382, 0.9985, 0.7680, 0.1211, 0.1997, 0.3171,\n",
       "          0.4753]]),\n",
       " torch.Size([6, 10]))"
      ]
     },
     "execution_count": 5,
     "metadata": {},
     "output_type": "execute_result"
    }
   ],
   "source": [
    "# Приведите его к форме 6 X 10\n",
    "sample_reshape = sample.reshape((6, 10))\n",
    "sample_reshape, sample_reshape.size()"
   ]
  },
  {
   "cell_type": "code",
   "execution_count": 6,
   "metadata": {},
   "outputs": [
    {
     "data": {
      "text/plain": [
       "tensor([[0.5276, 2.0011, 1.5236, 1.6782, 0.9005],\n",
       "        [0.7970, 0.3149, 1.3390, 1.1208, 0.5721],\n",
       "        [0.1060, 1.2968, 1.9988, 0.7515, 0.5902],\n",
       "        [0.8106, 1.6448, 1.0955, 0.8380, 0.9549],\n",
       "        [0.6032, 0.3554, 0.6958, 0.8820, 0.2172],\n",
       "        [0.5232, 2.8413, 1.7850, 1.2313, 0.8852],\n",
       "        [0.0473, 2.7532, 0.9659, 1.4269, 0.7798],\n",
       "        [0.3618, 0.3512, 0.2626, 1.8375, 0.9897],\n",
       "        [0.4736, 1.3413, 0.9036, 1.6847, 0.7494],\n",
       "        [0.7773, 1.2472, 1.4916, 1.6143, 0.2988],\n",
       "        [0.5852, 0.3014, 0.0170, 1.8764, 0.9985],\n",
       "        [0.7680, 0.4843, 0.3993, 0.6342, 0.4753]], device='cuda:0')"
      ]
     },
     "execution_count": 6,
     "metadata": {},
     "output_type": "execute_result"
    }
   ],
   "source": [
    "# Умножьте его на вектор [1, 4, 2, 2, 1] поэлементно\n",
    "sample_reshape = sample_reshape.cuda()\n",
    "res = sample_reshape.reshape((-1, 5)) * torch.tensor([1, 4, 2, 2, 1]).type(torch.int).cuda()\n",
    "res"
   ]
  },
  {
   "cell_type": "code",
   "execution_count": 7,
   "metadata": {},
   "outputs": [
    {
     "data": {
      "text/plain": [
       "(tensor([[4.3549, 3.6525, 3.1152, 3.5023, 3.9100, 3.2442],\n",
       "         [3.6525, 3.8182, 3.0426, 3.1704, 3.1596, 2.4052],\n",
       "         [3.1152, 3.0426, 3.4719, 2.5522, 3.0621, 2.2752],\n",
       "         [3.5023, 3.1704, 2.5522, 3.8057, 3.1005, 2.6080],\n",
       "         [3.9100, 3.1596, 3.0621, 3.1005, 3.8104, 3.0264],\n",
       "         [3.2442, 2.4052, 2.2752, 2.6080, 3.0264, 3.1962]], device='cuda:0'),\n",
       " torch.Size([6, 6]))"
      ]
     },
     "execution_count": 7,
     "metadata": {},
     "output_type": "execute_result"
    }
   ],
   "source": [
    "# Умножьте тензор матрично на себя, чтобы результат был размерности 6x6\n",
    "res_2 = sample_reshape @ sample_reshape.T\n",
    "res_2, res_2.size()"
   ]
  },
  {
   "cell_type": "code",
   "execution_count": 8,
   "metadata": {},
   "outputs": [
    {
     "name": "stdout",
     "output_type": "stream",
     "text": [
      "y([1, 0.5, 2]): -148.5\n",
      "derivative: -71.0\n"
     ]
    }
   ],
   "source": [
    "# Посчитайте производную функции y = x**3 + z - 75t в точке (1, 0.5, 2)\n",
    "x = torch.tensor([1.0], requires_grad=True)\n",
    "z = torch.tensor([0.5], requires_grad=True)\n",
    "t = torch.tensor([2.0], requires_grad=True)\n",
    "\n",
    "y = x ** 3 + z - 75 * t\n",
    "\n",
    "print(f'y([1, 0.5, 2]): {y.item()}\\nderivative: {(3 * x ** 2 + 1 - 75).item()}')"
   ]
  },
  {
   "cell_type": "code",
   "execution_count": 9,
   "metadata": {},
   "outputs": [
    {
     "data": {
      "text/plain": [
       "tensor([[1., 1., 1., 1., 1., 1.],\n",
       "        [1., 1., 1., 1., 1., 1.],\n",
       "        [1., 1., 1., 1., 1., 1.],\n",
       "        [1., 1., 1., 1., 1., 1.],\n",
       "        [1., 1., 1., 1., 1., 1.]])"
      ]
     },
     "execution_count": 9,
     "metadata": {},
     "output_type": "execute_result"
    }
   ],
   "source": [
    "# Создайте единичный тензор размера 5x6\n",
    "ones = torch.ones((5, 6))\n",
    "ones"
   ]
  },
  {
   "cell_type": "code",
   "execution_count": 10,
   "metadata": {},
   "outputs": [
    {
     "data": {
      "text/plain": [
       "array([[1., 1., 1., 1., 1., 1.],\n",
       "       [1., 1., 1., 1., 1., 1.],\n",
       "       [1., 1., 1., 1., 1., 1.],\n",
       "       [1., 1., 1., 1., 1., 1.],\n",
       "       [1., 1., 1., 1., 1., 1.]], dtype=float32)"
      ]
     },
     "execution_count": 10,
     "metadata": {},
     "output_type": "execute_result"
    }
   ],
   "source": [
    "# Переведите его в формат numpy\n",
    "ones.numpy()"
   ]
  },
  {
   "cell_type": "code",
   "execution_count": null,
   "metadata": {},
   "outputs": [],
   "source": [
    "# Давайте теперь пооптимизируем: возьмите функцию y = x**w1 - 2 * x**2 + 5\n",
    "# Посчитайте "
   ]
  }
 ],
 "metadata": {
  "kernelspec": {
   "display_name": "Python 3 (ipykernel)",
   "language": "python",
   "name": "python3"
  },
  "language_info": {
   "codemirror_mode": {
    "name": "ipython",
    "version": 3
   },
   "file_extension": ".py",
   "mimetype": "text/x-python",
   "name": "python",
   "nbconvert_exporter": "python",
   "pygments_lexer": "ipython3",
   "version": "3.10.6"
  }
 },
 "nbformat": 4,
 "nbformat_minor": 4
}
